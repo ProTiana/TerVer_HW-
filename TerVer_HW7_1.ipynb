{
 "cells": [
  {
   "cell_type": "code",
   "execution_count": 1,
   "id": "2b8ae3e7",
   "metadata": {},
   "outputs": [
    {
     "data": {
      "text/plain": [
       "(array([380, 420, 290]), array([140, 360, 200, 900]))"
      ]
     },
     "execution_count": 1,
     "metadata": {},
     "output_type": "execute_result"
    }
   ],
   "source": [
    "import numpy as np\n",
    "from scipy import stats\n",
    "\n",
    "#Задача1\n",
    "x=np.array([380,420, 290])\n",
    "y=np.array([140,360,200,900])\n",
    "x,y"
   ]
  },
  {
   "cell_type": "code",
   "execution_count": 3,
   "id": "6afb3cbd",
   "metadata": {},
   "outputs": [
    {
     "data": {
      "text/plain": [
       "MannwhitneyuResult(statistic=8.0, pvalue=0.6285714285714286)"
      ]
     },
     "execution_count": 3,
     "metadata": {},
     "output_type": "execute_result"
    }
   ],
   "source": [
    "stats.mannwhitneyu(x,y)"
   ]
  },
  {
   "cell_type": "markdown",
   "id": "475a152b",
   "metadata": {},
   "source": [
    "#вывод:нулевая гипотеза не отвергается - статистически значимых различий между выборками нет"
   ]
  },
  {
   "cell_type": "code",
   "execution_count": 5,
   "id": "9cb3c8c4",
   "metadata": {},
   "outputs": [
    {
     "data": {
      "text/plain": [
       "FriedmanchisquareResult(statistic=9.578947368421062, pvalue=0.00831683351100441)"
      ]
     },
     "execution_count": 5,
     "metadata": {},
     "output_type": "execute_result"
    }
   ],
   "source": [
    "#Задача 2\n",
    "\n",
    "before=[150, 160, 165, 145, 155]\n",
    "after1=[140, 155, 150, 130, 135]\n",
    "after2=[130, 130, 120, 130, 125]\n",
    "stats.friedmanchisquare(before, after1, after2)"
   ]
  },
  {
   "cell_type": "code",
   "execution_count": 6,
   "id": "ff1a35a4",
   "metadata": {},
   "outputs": [],
   "source": [
    "#Вывод: нулевая гипотеза не принимается - статистически значимые различия есть."
   ]
  },
  {
   "cell_type": "code",
   "execution_count": 7,
   "id": "5095f7e0",
   "metadata": {},
   "outputs": [
    {
     "data": {
      "text/plain": [
       "WilcoxonResult(statistic=0.0, pvalue=0.0625)"
      ]
     },
     "execution_count": 7,
     "metadata": {},
     "output_type": "execute_result"
    }
   ],
   "source": [
    "#Задача 3. \n",
    "stats.wilcoxon(befor, after1)"
   ]
  },
  {
   "cell_type": "code",
   "execution_count": 8,
   "id": "ecd86d6a",
   "metadata": {},
   "outputs": [],
   "source": [
    "#Вывод: нулевая гипотеза не отвергается - статистически значимых различий нет."
   ]
  },
  {
   "cell_type": "code",
   "execution_count": 10,
   "id": "a474f0fb",
   "metadata": {},
   "outputs": [
    {
     "data": {
      "text/plain": [
       "KruskalResult(statistic=5.465564058257224, pvalue=0.0650380998590494)"
      ]
     },
     "execution_count": 10,
     "metadata": {},
     "output_type": "execute_result"
    }
   ],
   "source": [
    "#Задача 4\n",
    "group1=[56, 60, 62, 55, 71, 67, 59, 58, 64, 67]\n",
    "group2=[57, 58, 69, 48, 72, 70, 68, 71, 50, 53]\n",
    "group3=[57, 67, 49, 48, 47, 55, 66, 51, 54]\n",
    "\n",
    "stats.kruskal(group1, group2, group3)"
   ]
  },
  {
   "cell_type": "code",
   "execution_count": 11,
   "id": "4cc89411",
   "metadata": {},
   "outputs": [],
   "source": [
    "#Вывод: нулевая гипотеза не отвергается - статистически значимых различий нет."
   ]
  },
  {
   "cell_type": "code",
   "execution_count": 16,
   "id": "77b51add",
   "metadata": {},
   "outputs": [
    {
     "data": {
      "text/plain": [
       "-2.262157162740992"
      ]
     },
     "execution_count": 16,
     "metadata": {},
     "output_type": "execute_result"
    }
   ],
   "source": [
    "#задача5. Проверка\n",
    "norm=np.array([2.51, 2.35, 2.74, 2.56, 2.40, 2.36, 2.65, 2.7, 2.67, 2.34])\n",
    "n=10\n",
    "alpha=0.05\n",
    "stats.t.ppf(alpha/2, df=n-1)"
   ]
  },
  {
   "cell_type": "code",
   "execution_count": 17,
   "id": "4aa6c81c",
   "metadata": {},
   "outputs": [
    {
     "ename": "TypeError",
     "evalue": "ttest_ind() missing 1 required positional argument: 'b'",
     "output_type": "error",
     "traceback": [
      "\u001b[0;31m---------------------------------------------------------------------------\u001b[0m",
      "\u001b[0;31mTypeError\u001b[0m                                 Traceback (most recent call last)",
      "\u001b[0;32m/var/folders/4j/_7c3yk9x3gg_lsbvzrkk4zcm0000gn/T/ipykernel_71043/89472427.py\u001b[0m in \u001b[0;36m<module>\u001b[0;34m\u001b[0m\n\u001b[0;32m----> 1\u001b[0;31m \u001b[0mstats\u001b[0m\u001b[0;34m.\u001b[0m\u001b[0mttest_ind\u001b[0m\u001b[0;34m(\u001b[0m\u001b[0mnorm\u001b[0m\u001b[0;34m)\u001b[0m\u001b[0;34m\u001b[0m\u001b[0;34m\u001b[0m\u001b[0m\n\u001b[0m",
      "\u001b[0;31mTypeError\u001b[0m: ttest_ind() missing 1 required positional argument: 'b'"
     ]
    }
   ],
   "source": []
  },
  {
   "cell_type": "code",
   "execution_count": null,
   "id": "4307dc9e",
   "metadata": {},
   "outputs": [],
   "source": []
  }
 ],
 "metadata": {
  "kernelspec": {
   "display_name": "Python 3 (ipykernel)",
   "language": "python",
   "name": "python3"
  },
  "language_info": {
   "codemirror_mode": {
    "name": "ipython",
    "version": 3
   },
   "file_extension": ".py",
   "mimetype": "text/x-python",
   "name": "python",
   "nbconvert_exporter": "python",
   "pygments_lexer": "ipython3",
   "version": "3.9.13"
  }
 },
 "nbformat": 4,
 "nbformat_minor": 5
}
